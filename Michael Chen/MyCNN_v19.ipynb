{
 "cells": [
  {
   "cell_type": "code",
   "execution_count": 1,
   "metadata": {},
   "outputs": [],
   "source": [
    "import torch\n",
    "from torch import nn\n",
    "from torch import optim\n",
    "from torch.nn import functional as F\n",
    "from torch.utils.data import Dataset, DataLoader, TensorDataset, RandomSampler, SequentialSampler\n",
    "from torch.nn.utils.rnn import pad_sequence, pack_padded_sequence\n",
    "from torchvision import transforms\n",
    "import torchvision.models as models\n",
    "import numpy as np\n",
    "import pandas as pd\n",
    "import os\n",
    "from skimage import io\n",
    "from skimage import color\n",
    "from sklearn.preprocessing import LabelEncoder, label_binarize\n",
    "from sklearn.model_selection import train_test_split\n",
    "import sklearn.metrics as metrics\n",
    "from sklearn.metrics import roc_auc_score\n",
    "from scipy.special import softmax\n",
    "import matplotlib.pyplot as plt\n",
    "import itertools\n",
    "import time\n",
    "import pdb\n",
    "import re\n",
    "from zipfile import ZipFile\n",
    "\n",
    "device = torch.device('cuda')\n",
    "\n",
    "torch.manual_seed(1117)\n",
    "torch.backends.cudnn.deterministic = True\n",
    "torch.backends.cudnn.benchmark = False\n",
    "np.random.seed(1117)"
   ]
  },
  {
   "cell_type": "code",
   "execution_count": 2,
   "metadata": {},
   "outputs": [],
   "source": [
    "class BloodDataset(Dataset):\n",
    "    \"\"\"Blood Cell Images from https://www.kaggle.com/paultimothymooney/blood-cells.\"\"\"\n",
    "\n",
    "    def __init__(self, csv_file, root_dir, transform=None):\n",
    "        \"\"\"\n",
    "        Args:\n",
    "            csv_file (string): Path to the csv file filename information.\n",
    "            root_dir (string): Directory with all the images.\n",
    "            transform (callable, optional): Optional transform to be applied\n",
    "                on a sample.\n",
    "        \"\"\"\n",
    "        self.data_frame = pd.read_csv(csv_file)\n",
    "        self.root_dir = root_dir\n",
    "        self.subfolder = ['EOSINOPHIL/', 'LYMPHOCYTE/', 'MONOCYTE/', 'NEUTROPHIL/']\n",
    "        self.transform = transform\n",
    "\n",
    "    def __len__(self):\n",
    "        return len(self.data_frame)\n",
    "\n",
    "    def __getitem__(self, idx):\n",
    "        sf = self.subfolder[self.data_frame['label'].iloc[idx]]\n",
    "        \n",
    "        img_name = os.path.join(self.root_dir, sf, self.data_frame['filename'].iloc[idx])\n",
    "\n",
    "        image = io.imread(img_name)\n",
    "        \n",
    "        # Added the following line to change image shape from (240, 320, 3) to (3, 240, 320)\n",
    "        #image = np.repeat(image[None,...],3,axis=0)\n",
    "        # Removed the above line, since it is not a clean transpose. Used following line instead.\n",
    "        image = np.transpose(image, (2, 0, 1))\n",
    "        \n",
    "        image = (image - image.mean()) / image.std()\n",
    "            \n",
    "        image_class = self.data_frame['label'].iloc[idx]\n",
    "\n",
    "        if self.transform:\n",
    "            image = self.transform(image)\n",
    "        \n",
    "        sample = {'x': image, 'y': image_class}\n",
    "\n",
    "        return sample"
   ]
  },
  {
   "cell_type": "code",
   "execution_count": 3,
   "metadata": {},
   "outputs": [],
   "source": [
    "root = './blood-cells.zip'\n",
    "partial_path = 'dataset2-master/dataset2-master/images/'\n",
    "full_path = './blood-cells' + '/' + partial_path\n",
    "batch_size = 4\n",
    "\n",
    "dataset = {'train': BloodDataset('train.csv', full_path + 'TRAIN/'),\n",
    "           'validate': BloodDataset('validate.csv', full_path + 'TRAIN/')}\n",
    "train_validate_loader = {x: DataLoader(dataset[x], batch_size = batch_size, shuffle = True, num_workers = 0) for x in ['train', 'validate']}\n",
    "test_loader = DataLoader(BloodDataset('test.csv', full_path + 'TEST/'), batch_size = 1, shuffle = True, num_workers = 0)\n",
    "test_simple_loader = DataLoader(BloodDataset('test_simple.csv', full_path + 'TEST_SIMPLE/'), batch_size = 1, shuffle = True, num_workers = 0)"
   ]
  },
  {
   "cell_type": "code",
   "execution_count": 4,
   "metadata": {},
   "outputs": [
    {
     "data": {
      "text/plain": [
       "torch.Size([4, 3, 76800])"
      ]
     },
     "execution_count": 4,
     "metadata": {},
     "output_type": "execute_result"
    }
   ],
   "source": [
    "next(iter(train_validate_loader['train']))['x'].view(4, 3, -1).shape"
   ]
  },
  {
   "cell_type": "markdown",
   "metadata": {},
   "source": [
    "# Add model here"
   ]
  },
  {
   "cell_type": "code",
   "execution_count": 5,
   "metadata": {},
   "outputs": [],
   "source": [
    "class MyCNN(nn.Module):\n",
    "    def __init__(self):\n",
    "        super(MyCNN, self).__init__()\n",
    "        self.dropout = nn.Dropout(p = 0.2)\n",
    "        \n",
    "        self.conv1 = nn.Sequential(\n",
    "            nn.Conv2d(3, 16, 3, 2, 1),\n",
    "            nn.ReLU(),\n",
    "            nn.MaxPool2d(2, 2)\n",
    "        )\n",
    "        \n",
    "        self.res1a = nn.Conv2d(16, 16, (1, 3), 1, (0, 1))\n",
    "        self.res1b = nn.Conv2d(16, 16, 3, 1, 1)\n",
    "        self.res1c = nn.Conv2d(16, 16, (3, 1), 1, (1, 0))\n",
    "        \n",
    "        self.conv2 = nn.Sequential(\n",
    "            nn.Conv2d(16, 32, 3, 2, 1),\n",
    "            nn.ReLU(),\n",
    "            nn.MaxPool2d(2, 2)\n",
    "        )\n",
    "        \n",
    "        self.res2a = nn.Conv2d(32, 32, (1, 3), 1, (0, 1))\n",
    "        self.res2b = nn.Conv2d(32, 32, 3, 1, 1)\n",
    "        self.res2c = nn.Conv2d(32, 32, (3, 1), 1, (1, 0))\n",
    "        \n",
    "        self.conv3 = nn.Sequential(\n",
    "            nn.Conv2d(32, 64, 3, 2, 1),\n",
    "            nn.ReLU(),\n",
    "            nn.MaxPool2d(2, 2)\n",
    "        )\n",
    "        \n",
    "        self.res3a = nn.Conv2d(64, 64, (1, 3), 1, (0, 1))\n",
    "        self.res3b = nn.Conv2d(64, 64, 3, 1, 1)\n",
    "        self.res3c = nn.Conv2d(64, 64, (3, 1), 1, (1, 0))\n",
    "        \n",
    "        self.conv4 = nn.Sequential(\n",
    "            nn.Conv2d(64, 128, 3, 2, 1),\n",
    "            nn.ReLU(),\n",
    "            nn.MaxPool2d(2, 2)\n",
    "        )\n",
    "        \n",
    "        self.res4a = nn.Conv2d(128, 128, (1, 3), 1, (0, 1))\n",
    "        self.res4b = nn.Conv2d(128, 128, 3, 1, 1)\n",
    "        self.res4c = nn.Conv2d(128, 128, (3, 1), 1, (1, 0))\n",
    "        \n",
    "        self.fc1 = nn.Linear(128, 512)\n",
    "        self.fc2 = nn.Linear(512, 4)\n",
    "        \n",
    "        for m in self.modules():\n",
    "            if isinstance(m, nn.Conv2d) or isinstance(m, nn.Linear):\n",
    "                nn.init.kaiming_uniform_(m.weight)\n",
    "        \n",
    "    def forward(self, x):\n",
    "        out = self.conv1(x)\n",
    "        \n",
    "        residual = out\n",
    "        out = self.res1a(out) + self.res1b(out) + self.res1c(out)\n",
    "        out = F.relu(out)\n",
    "        out += residual\n",
    "        out = F.relu(out)\n",
    "        \n",
    "        out = self.conv2(out)\n",
    "        \n",
    "        residual = out\n",
    "        out = self.res2a(out) + self.res2b(out) + self.res2c(out)\n",
    "        out = F.relu(out)\n",
    "        out += residual\n",
    "        out = F.relu(out)\n",
    "        \n",
    "        out = self.conv3(out)\n",
    "        \n",
    "        residual = out\n",
    "        out = self.res3a(out) + self.res3b(out) + self.res3c(out)\n",
    "        out = F.relu(out)\n",
    "        out += residual\n",
    "        out = F.relu(out)\n",
    "        \n",
    "        out = self.conv4(out)\n",
    "        \n",
    "        residual = out\n",
    "        out = self.res4a(out) + self.res4b(out) + self.res4c(out)\n",
    "        out = F.relu(out)\n",
    "        out += residual\n",
    "        out = F.relu(out)\n",
    "        \n",
    "        out = self.dropout(out)\n",
    "        out = self.fc1(out.view(out.shape[0], 1, -1))\n",
    "        out = self.dropout(out)\n",
    "        out = self.fc2(out)\n",
    "        \n",
    "        return out"
   ]
  },
  {
   "cell_type": "code",
   "execution_count": 6,
   "metadata": {},
   "outputs": [],
   "source": [
    "model = MyCNN()\n",
    "\n",
    "def weights_init(m):\n",
    "    if isinstance(m, nn.Conv2d) or isinstance(m, nn.Linear):\n",
    "        nn.init.kaiming_uniform_(m.weight)\n",
    "    elif isinstance(m, nn.BatchNorm2d):\n",
    "        nn.init.constant_(m.weight, 1)\n",
    "        nn.init.constant_(m.bias, 0)\n",
    "        \n",
    "model.apply(weights_init)\n",
    "model = model.to(device)\n",
    "\n",
    "optimizer = optim.Adam(model.parameters(), lr = 0.001, weight_decay = 10 ** (-5))\n",
    "lambda_func = lambda epoch: 0.5 ** epoch\n",
    "scheduler = optim.lr_scheduler.LambdaLR(optimizer, lr_lambda=lambda_func)\n",
    "loss_fn = nn.CrossEntropyLoss()"
   ]
  },
  {
   "cell_type": "code",
   "execution_count": 7,
   "metadata": {},
   "outputs": [],
   "source": [
    "# Originally set num_epoch to 50, but the model stabilized ~11 epochs. I was going to set num_epoch to 15, but the model peaked at 15, so I set it to 20.\n",
    "def train_model(model = model, dataloader = train_validate_loader, optimizer = optimizer, scheduler = scheduler, loss_fn = loss_fn, num_epoch = 20, verbose = True):\n",
    "    acc_dict = {'train':[],'validate':[]}\n",
    "    loss_dict = {'train':[],'validate':[]}\n",
    "    best_loss = 1e5\n",
    "    phases = ['train', 'validate']\n",
    "\n",
    "    start_time = time.time()\n",
    "    for epoch in range(num_epoch):\n",
    "        print('Epoch: {}/{}'.format(epoch + 1, num_epoch))\n",
    "        \n",
    "        for p in phases:\n",
    "            running_correct = 0\n",
    "            running_loss = 0\n",
    "            running_total = 0\n",
    "            if p == 'train':\n",
    "                model.train()\n",
    "            else:\n",
    "                model.eval()\n",
    "            \n",
    "            for data in dataloader[p]:\n",
    "                optimizer.zero_grad()               \n",
    "                image = torch.tensor(data['x']).to(device, dtype = torch.float)\n",
    "                label = torch.tensor(data['y']).to(device, dtype = torch.long)\n",
    "                output = model(image).squeeze(1)\n",
    "                loss = loss_fn(output, label)\n",
    "                _, preds = torch.max(output, dim = 1)\n",
    "                num_imgs = image.size()[0]\n",
    "                running_correct += torch.sum(preds == label).item()\n",
    "                running_loss += loss.item()*num_imgs\n",
    "                running_total += num_imgs\n",
    "                if p== 'train':\n",
    "                    loss.backward()\n",
    "                    optimizer.step()\n",
    "        \n",
    "            epoch_acc = float(running_correct / running_total)\n",
    "            epoch_loss = float(running_loss / running_total)\n",
    "            \n",
    "            if verbose or (i % 10 == 0):\n",
    "                print('Phase:{}, epoch loss: {:.4f} Acc: {:.4f}'.format(p, epoch_loss, epoch_acc))\n",
    "                \n",
    "            acc_dict[p].append(epoch_acc)\n",
    "            loss_dict[p].append(epoch_loss)\n",
    "            \n",
    "            # Changed following to seek best epoch_loss, not epoch_acc\n",
    "            if p == 'validate':\n",
    "                if epoch_loss < best_loss:\n",
    "                    best_loss = epoch_loss\n",
    "                    best_model_wts = model.state_dict()\n",
    "            else:\n",
    "                if scheduler:\n",
    "                    scheduler.step()\n",
    "        \n",
    "        print('-'*10)\n",
    "                    \n",
    "    time_elapsed = time.time() - start_time\n",
    "    print('Training/validation complete in {:.0f}m {:.0f}s'.format(time_elapsed // 60, time_elapsed % 60))\n",
    "    print('Best val loss: {:4f}'.format(best_loss))\n",
    "    \n",
    "    model.load_state_dict(best_model_wts)\n",
    "    \n",
    "    return model, acc_dict, loss_dict\n",
    "\n",
    "# Source: https://datascience.stackexchange.com/questions/37186/early-stopping-on-validation-loss-or-on-accuracy"
   ]
  },
  {
   "cell_type": "code",
   "execution_count": 8,
   "metadata": {
    "scrolled": false
   },
   "outputs": [
    {
     "name": "stdout",
     "output_type": "stream",
     "text": [
      "Epoch: 1/20\n"
     ]
    },
    {
     "name": "stderr",
     "output_type": "stream",
     "text": [
      "/home/mc8000/dl4med/lib/python3.6/site-packages/ipykernel_launcher.py:23: UserWarning: To copy construct from a tensor, it is recommended to use sourceTensor.clone().detach() or sourceTensor.clone().detach().requires_grad_(True), rather than torch.tensor(sourceTensor).\n",
      "/home/mc8000/dl4med/lib/python3.6/site-packages/ipykernel_launcher.py:24: UserWarning: To copy construct from a tensor, it is recommended to use sourceTensor.clone().detach() or sourceTensor.clone().detach().requires_grad_(True), rather than torch.tensor(sourceTensor).\n"
     ]
    },
    {
     "name": "stdout",
     "output_type": "stream",
     "text": [
      "Phase:train, epoch loss: 1.9467 Acc: 0.2795\n",
      "Phase:validate, epoch loss: 1.3379 Acc: 0.3099\n",
      "----------\n",
      "Epoch: 2/20\n",
      "Phase:train, epoch loss: 1.0556 Acc: 0.4933\n",
      "Phase:validate, epoch loss: 0.6406 Acc: 0.6905\n",
      "----------\n",
      "Epoch: 3/20\n",
      "Phase:train, epoch loss: 0.5861 Acc: 0.7179\n",
      "Phase:validate, epoch loss: 0.4493 Acc: 0.7776\n",
      "----------\n",
      "Epoch: 4/20\n",
      "Phase:train, epoch loss: 0.3819 Acc: 0.8282\n",
      "Phase:validate, epoch loss: 0.3672 Acc: 0.8334\n",
      "----------\n",
      "Epoch: 5/20\n",
      "Phase:train, epoch loss: 0.2784 Acc: 0.8796\n",
      "Phase:validate, epoch loss: 0.3212 Acc: 0.8575\n",
      "----------\n",
      "Epoch: 6/20\n",
      "Phase:train, epoch loss: 0.2165 Acc: 0.9076\n",
      "Phase:validate, epoch loss: 0.3195 Acc: 0.8619\n",
      "----------\n",
      "Epoch: 7/20\n",
      "Phase:train, epoch loss: 0.1814 Acc: 0.9266\n",
      "Phase:validate, epoch loss: 0.3130 Acc: 0.8659\n",
      "----------\n",
      "Epoch: 8/20\n",
      "Phase:train, epoch loss: 0.1656 Acc: 0.9348\n",
      "Phase:validate, epoch loss: 0.3163 Acc: 0.8687\n",
      "----------\n",
      "Epoch: 9/20\n",
      "Phase:train, epoch loss: 0.1550 Acc: 0.9405\n",
      "Phase:validate, epoch loss: 0.3176 Acc: 0.8687\n",
      "----------\n",
      "Epoch: 10/20\n",
      "Phase:train, epoch loss: 0.1509 Acc: 0.9424\n",
      "Phase:validate, epoch loss: 0.3166 Acc: 0.8679\n",
      "----------\n",
      "Epoch: 11/20\n",
      "Phase:train, epoch loss: 0.1520 Acc: 0.9407\n",
      "Phase:validate, epoch loss: 0.3170 Acc: 0.8683\n",
      "----------\n",
      "Epoch: 12/20\n",
      "Phase:train, epoch loss: 0.1455 Acc: 0.9444\n",
      "Phase:validate, epoch loss: 0.3172 Acc: 0.8687\n",
      "----------\n",
      "Epoch: 13/20\n",
      "Phase:train, epoch loss: 0.1498 Acc: 0.9423\n",
      "Phase:validate, epoch loss: 0.3174 Acc: 0.8679\n",
      "----------\n",
      "Epoch: 14/20\n",
      "Phase:train, epoch loss: 0.1522 Acc: 0.9400\n",
      "Phase:validate, epoch loss: 0.3175 Acc: 0.8683\n",
      "----------\n",
      "Epoch: 15/20\n",
      "Phase:train, epoch loss: 0.1460 Acc: 0.9445\n",
      "Phase:validate, epoch loss: 0.3175 Acc: 0.8687\n",
      "----------\n",
      "Epoch: 16/20\n",
      "Phase:train, epoch loss: 0.1465 Acc: 0.9443\n",
      "Phase:validate, epoch loss: 0.3175 Acc: 0.8691\n",
      "----------\n",
      "Epoch: 17/20\n",
      "Phase:train, epoch loss: 0.1475 Acc: 0.9436\n",
      "Phase:validate, epoch loss: 0.3175 Acc: 0.8691\n",
      "----------\n",
      "Epoch: 18/20\n",
      "Phase:train, epoch loss: 0.1457 Acc: 0.9463\n",
      "Phase:validate, epoch loss: 0.3175 Acc: 0.8691\n",
      "----------\n",
      "Epoch: 19/20\n",
      "Phase:train, epoch loss: 0.1468 Acc: 0.9409\n",
      "Phase:validate, epoch loss: 0.3175 Acc: 0.8691\n",
      "----------\n",
      "Epoch: 20/20\n",
      "Phase:train, epoch loss: 0.1462 Acc: 0.9444\n",
      "Phase:validate, epoch loss: 0.3175 Acc: 0.8691\n",
      "----------\n",
      "Training/validation complete in 19m 14s\n",
      "Best val loss: 0.313046\n"
     ]
    }
   ],
   "source": [
    "model, acc_dict, loss_dict = train_model()"
   ]
  },
  {
   "cell_type": "code",
   "execution_count": 9,
   "metadata": {},
   "outputs": [],
   "source": [
    "torch.save(model.state_dict(), './MyCNN_v19.pth')"
   ]
  },
  {
   "cell_type": "code",
   "execution_count": 10,
   "metadata": {},
   "outputs": [
    {
     "data": {
      "image/png": "[encoded data removed]",
      "text/plain": [
       "<Figure size 432x288 with 1 Axes>"
      ]
     },
     "metadata": {
      "needs_background": "light"
     },
     "output_type": "display_data"
    }
   ],
   "source": [
    "x = np.arange(len(loss_dict['train']))\n",
    "plt.plot(x, loss_dict['train'], 'r', label=\"Train Loss\")\n",
    "plt.plot(x, loss_dict['validate'], 'b', label=\"Validation Loss\")\n",
    "plt.title('MyCNN_v19 Train/Validation Loss by Epoch')\n",
    "plt.xlabel('Epoch')\n",
    "plt.ylabel('Loss')\n",
    "plt.legend()\n",
    "plt.savefig('MyCNN_v19_loss.png')"
   ]
  },
  {
   "cell_type": "code",
   "execution_count": 11,
   "metadata": {},
   "outputs": [
    {
     "data": {
      "image/png": "[encoded data removed]",
      "text/plain": [
       "<Figure size 432x288 with 1 Axes>"
      ]
     },
     "metadata": {
      "needs_background": "light"
     },
     "output_type": "display_data"
    }
   ],
   "source": [
    "x = np.arange(len(acc_dict['train']))\n",
    "plt.plot(x, acc_dict['train'], 'r', label=\"Train Accuracy\")\n",
    "plt.plot(x, acc_dict['validate'], 'b', label=\"Validation Accuracy\")\n",
    "plt.title('MyCNN_v19 Train/Validation Accuracy by Epoch')\n",
    "plt.xlabel('Epoch')\n",
    "plt.ylabel('Accuracy')\n",
    "plt.legend()\n",
    "plt.savefig('MyCNN_v19_accuracy.png')"
   ]
  },
  {
   "cell_type": "code",
   "execution_count": 12,
   "metadata": {},
   "outputs": [],
   "source": [
    "def evaluate_model(model, test_loader):\n",
    "    model.eval()\n",
    "    \n",
    "    predictions = []\n",
    "    probabilities = []\n",
    "    actual = []\n",
    "    \n",
    "    running_total = len(test_loader)\n",
    "    running_correct = 0\n",
    "    \n",
    "    with torch.no_grad():\n",
    "        for data in test_loader:\n",
    "            image = data['x'].to(device, dtype = torch.float)\n",
    "            output = softmax(model(image).cpu()).view(-1).numpy()\n",
    "            prediction = np.argmax(output)\n",
    "            predictions.append(prediction)\n",
    "            probabilities.append(output)\n",
    "\n",
    "            label = data['y']\n",
    "            actual.append(label)\n",
    "            \n",
    "            running_correct += torch.sum(prediction == label).item()\n",
    "    \n",
    "    probabilities = np.array(probabilities)\n",
    "    accuracy = float(running_correct / running_total)\n",
    "    \n",
    "    return predictions, probabilities, actual, accuracy"
   ]
  },
  {
   "cell_type": "code",
   "execution_count": 13,
   "metadata": {},
   "outputs": [
    {
     "name": "stdout",
     "output_type": "stream",
     "text": [
      "0.8319260152794532\n"
     ]
    }
   ],
   "source": [
    "model = MyCNN()\n",
    "model.load_state_dict(torch.load('./MyCNN_v19.pth', map_location = torch.device('cpu')))\n",
    "model.state_dict()\n",
    "model = model.to(device)\n",
    "\n",
    "predictions, probabilities, actual, accuracy = evaluate_model(model, test_loader)\n",
    "print(accuracy)"
   ]
  },
  {
   "cell_type": "code",
   "execution_count": 14,
   "metadata": {},
   "outputs": [],
   "source": [
    "def plot_confusion_matrix(cm, target_names, title = 'Confusion Matrix', cmap = None, normalize = True):\n",
    "    accuracy = np.trace(cm) / float(np.sum(cm))\n",
    "    misclass = 1 - accuracy\n",
    "    print(accuracy, misclass)\n",
    "    \n",
    "    if cmap is None:\n",
    "        cmap = plt.get_cmap('Blues')\n",
    "        \n",
    "    plt.figure(figsize = (8, 6))\n",
    "    plt.imshow(cm, interpolation = 'nearest', cmap = cmap)\n",
    "    plt.title(title)\n",
    "    plt.colorbar()\n",
    "    \n",
    "    if target_names is not None:\n",
    "        tick_marks = np.arange(len(target_names))\n",
    "        plt.xticks(tick_marks, target_names, rotation = 45)\n",
    "        plt.yticks(tick_marks, target_names)\n",
    "        \n",
    "    if normalize:\n",
    "        cm = cm.astype('float') / cm.sum(axis = 1)[:, np.newaxis]\n",
    "        \n",
    "    thresh = cm.max() / 1.5 if normalize else cm.max() / 2\n",
    "    for i, j in itertools.product(range(cm.shape[0]), range(cm.shape[1])):\n",
    "        if normalize:\n",
    "            plt.text(j, i, \"{:0.4f}\".format(cm[i, j]),\n",
    "                     horizontalalignment = \"center\",\n",
    "                     color=\"white\" if cm[i, j] > thresh else \"black\")\n",
    "        else:\n",
    "            plt.text(j, i, \"{:,}\".format(cm[i, j]),\n",
    "                     horizontalalignment = \"center\",\n",
    "                     color = \"white\" if cm[i, j] > thresh else \"black\")\n",
    "\n",
    "\n",
    "    plt.tight_layout()\n",
    "    plt.ylabel('True label')\n",
    "    plt.xlabel('Predicted label\\naccuracy={:0.4f}; misclass={:0.4f}'.format(accuracy, misclass))\n",
    "    plt.savefig('MyCNN_v19_cm.png')"
   ]
  },
  {
   "cell_type": "code",
   "execution_count": 15,
   "metadata": {},
   "outputs": [
    {
     "name": "stdout",
     "output_type": "stream",
     "text": [
      "0.8319260152794532 0.1680739847205468\n"
     ]
    },
    {
     "data": {
      "image/png": "[encoded data removed]",
      "text/plain": [
       "<Figure size 576x432 with 2 Axes>"
      ]
     },
     "metadata": {
      "needs_background": "light"
     },
     "output_type": "display_data"
    }
   ],
   "source": [
    "cm = metrics.confusion_matrix(actual, predictions)\n",
    "target_names = ['Eosinophil', 'Lymphocyte', 'Monocyte', 'Neutrophil']\n",
    "title = 'MyCNN_v19 Confusion Matrix'\n",
    "cmap = None\n",
    "normalize = False\n",
    "\n",
    "plot_confusion_matrix(cm, target_names, title, cmap, normalize)"
   ]
  },
  {
   "cell_type": "code",
   "execution_count": 16,
   "metadata": {
    "scrolled": true
   },
   "outputs": [
    {
     "data": {
      "image/png": "[encoded data removed]",
      "text/plain": [
       "<Figure size 432x288 with 1 Axes>"
      ]
     },
     "metadata": {
      "needs_background": "light"
     },
     "output_type": "display_data"
    }
   ],
   "source": [
    "model_actual_binarized = np.array(label_binarize(actual, classes = [0, 1, 2, 3], pos_label = True))\n",
    "n_classes = 4\n",
    "\n",
    "fpr = dict()\n",
    "tpr = dict()\n",
    "roc_auc = dict()\n",
    "for i in range(n_classes):\n",
    "    fpr[i], tpr[i], _ = metrics.roc_curve(model_actual_binarized[:, i], probabilities[:, i])\n",
    "    roc_auc[i] = metrics.auc(fpr[i], tpr[i])\n",
    "\n",
    "plt.figure()\n",
    "plt.plot(fpr[0], tpr[0], 'r', label = 'Eosinophil AUC = %0.2f' % roc_auc[0])\n",
    "plt.plot(fpr[1], tpr[1], 'g', label = 'Lymphocyte AUC = %0.2f' % roc_auc[1])\n",
    "plt.plot(fpr[2], tpr[2], 'b', label = 'Monocyte AUC = %0.2f' % roc_auc[2])\n",
    "plt.plot(fpr[3], tpr[3], 'y', label = 'Neutrophil AUC = %0.2f' % roc_auc[3])\n",
    "plt.title('MyCNN_v19 Receiver Operating Characteristic')\n",
    "plt.legend(loc = 'lower right')\n",
    "plt.plot([0, 1], [0, 1], '--', color='gray')\n",
    "plt.xlim([0, 1])\n",
    "plt.ylim([0, 1])\n",
    "plt.xlabel('False Positive Rate')\n",
    "plt.ylabel('True Positive Rate')\n",
    "plt.savefig('MyCNN_v13_auroc.png')"
   ]
  },
  {
   "cell_type": "code",
   "execution_count": 17,
   "metadata": {},
   "outputs": [
    {
     "name": "stdout",
     "output_type": "stream",
     "text": [
      "0.6197183098591549\n"
     ]
    }
   ],
   "source": [
    "_, _, _, simple_accuracy = evaluate_model(model, test_simple_loader)\n",
    "print(simple_accuracy)"
   ]
  }
 ],
 "metadata": {
  "kernelspec": {
   "display_name": "Python 3",
   "language": "python",
   "name": "python3"
  },
  "language_info": {
   "codemirror_mode": {
    "name": "ipython",
    "version": 3
   },
   "file_extension": ".py",
   "mimetype": "text/x-python",
   "name": "python",
   "nbconvert_exporter": "python",
   "pygments_lexer": "ipython3",
   "version": "3.6.10"
  }
 },
 "nbformat": 4,
 "nbformat_minor": 4
}
